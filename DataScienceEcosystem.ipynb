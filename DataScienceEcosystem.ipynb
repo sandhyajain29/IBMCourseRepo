{
 "cells": [
  {
   "cell_type": "markdown",
   "id": "91a305a5-197f-4977-83f8-e7bb2e5cfbf3",
   "metadata": {},
   "source": [
    "# Data Science Tools and Ecosystem\n"
   ]
  },
  {
   "cell_type": "markdown",
   "id": "ea65eec3-1b49-494b-b232-ae7e82d24982",
   "metadata": {},
   "source": [
    "## In this notebook, Data Science Tools and Ecosystem are summarized.\n"
   ]
  },
  {
   "cell_type": "markdown",
   "id": "b08a60cf-a5b6-4dca-bfc7-8897e4f68bc9",
   "metadata": {},
   "source": [
    "### Some of the popular languages that Data Scientists use are:\n",
    "1. python\n",
    "2. R\n",
    "3. C++"
   ]
  },
  {
   "cell_type": "markdown",
   "id": "80bb51e6-a060-4827-8704-779972edad8e",
   "metadata": {},
   "source": [
    "## Some of the commonly used libraries used by Data Scientists include:\n",
    "1. scikitlearn\n",
    "2. pytorch\n",
    "3. TensorFlow\n",
    "4.  ggplot\n",
    "5.  pandas\n",
    "6.  numPy"
   ]
  },
  {
   "cell_type": "markdown",
   "id": "6066dd0e-10d5-4038-8ffd-6f6db4c9256f",
   "metadata": {},
   "source": [
    "## Data Science Tools\n",
    "\n",
    "| Name | Description |\n",
    "| -------------| ------ |\n",
    "| python | programming language |\n",
    "| TensorFlow | Machine learning library |\n",
    "| ggplot | R library used to make plots etc. |\n",
    "|matplotlib| python library to make plots etc. | "
   ]
  },
  {
   "cell_type": "markdown",
   "id": "24219eec-e768-408f-afa6-135d34de0080",
   "metadata": {},
   "source": [
    "### Below are a few examples of evaluating arithmetic expressions in Python"
   ]
  },
  {
   "cell_type": "code",
   "execution_count": 2,
   "id": "c4fcb19b-03ed-4d9f-b5b8-f78925eb3597",
   "metadata": {},
   "outputs": [
    {
     "data": {
      "text/plain": [
       "17"
      ]
     },
     "execution_count": 2,
     "metadata": {},
     "output_type": "execute_result"
    }
   ],
   "source": [
    "#This a simple arithmetic expression to mutiply then add integers\n",
    "(3*4)+5"
   ]
  },
  {
   "cell_type": "code",
   "execution_count": 4,
   "id": "c6f3955e-193a-4b66-9a08-ee3faa3e4474",
   "metadata": {},
   "outputs": [
    {
     "data": {
      "text/plain": [
       "3.3333333333333335"
      ]
     },
     "execution_count": 4,
     "metadata": {},
     "output_type": "execute_result"
    }
   ],
   "source": [
    "#This will convert 200 minutes to hours by diving by 60\n",
    "200/60."
   ]
  },
  {
   "cell_type": "markdown",
   "id": "11409dd4-39f6-47a9-b859-aa32f8533e09",
   "metadata": {},
   "source": [
    "**Objectives:**\n",
    "* List popular languages for Data Science:\n",
    "\n",
    "  - Python\n",
    "  - R\n",
    "  - C++\n",
    "\n",
    "* List popular libraries for Data Science:\n",
    "\n",
    "  - ggplot\n",
    "  - matplotlib\n",
    "  - scikitlearn\n",
    "    \n"
   ]
  },
  {
   "cell_type": "markdown",
   "id": "4c04ef81-120d-478e-a1ee-6c7f0a0daa73",
   "metadata": {},
   "source": [
    "# Author\n",
    "Sandhya Jain"
   ]
  }
 ],
 "metadata": {
  "kernelspec": {
   "display_name": "Python 3 (ipykernel)",
   "language": "python",
   "name": "python3"
  },
  "language_info": {
   "codemirror_mode": {
    "name": "ipython",
    "version": 3
   },
   "file_extension": ".py",
   "mimetype": "text/x-python",
   "name": "python",
   "nbconvert_exporter": "python",
   "pygments_lexer": "ipython3",
   "version": "3.11.7"
  }
 },
 "nbformat": 4,
 "nbformat_minor": 5
}
